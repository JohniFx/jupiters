{
 "cells": [
  {
   "cell_type": "code",
   "execution_count": 75,
   "metadata": {},
   "outputs": [],
   "source": [
    "import pandas as pd\n",
    "from urllib import request\n",
    "import ssl\n",
    "from bs4 import BeautifulSoup\n",
    "import requests"
   ]
  },
  {
   "cell_type": "code",
   "execution_count": 76,
   "metadata": {},
   "outputs": [],
   "source": [
    "url = 'https://www.npp.zp.ua/en/safety/arms'"
   ]
  },
  {
   "cell_type": "code",
   "execution_count": 77,
   "metadata": {},
   "outputs": [
    {
     "data": {
      "text/plain": [
       "0"
      ]
     },
     "execution_count": 77,
     "metadata": {},
     "output_type": "execute_result"
    }
   ],
   "source": [
    "# korábbi mérések betöltése\n",
    "import pickle\n",
    "with open(\"zaporizhzhia_npp.pkl\", \"rb\") as fp:\n",
    "    data_list = pickle.load(fp)\n",
    "len(data_list)"
   ]
  },
  {
   "cell_type": "code",
   "execution_count": 103,
   "metadata": {},
   "outputs": [
    {
     "name": "stdout",
     "output_type": "stream",
     "text": [
      "As of the time 03/03/2022 - 21:06\n"
     ]
    },
    {
     "data": {
      "text/plain": [
       "Point control\n",
       "Industrial ground                                0.10\n",
       "Michurino                                        0.08\n",
       "Vodyane                                          0.07\n",
       "Kamyanka-Dniprovska                              0.06\n",
       "Znamyanka                                        0.09\n",
       "ZNPP greenhouses                                 0.10\n",
       "Ivanivka                                         0.11\n",
       "Zaporizhzhya TPP recreation center               0.07\n",
       "Power substation \"Luch\"                          0.09\n",
       "Sewage disposal plant                            0.10\n",
       "ZNPP external radiation monitoring laboratory    0.10\n",
       "Nikopol                                          0.12\n",
       "Marganets                                        0.08\n",
       "ZNPP cooling towers                              0.10\n",
       "31-FFRB                                          0.09\n",
       "Name: Dose rate, μSv/h, dtype: float64"
      ]
     },
     "execution_count": 103,
     "metadata": {},
     "output_type": "execute_result"
    }
   ],
   "source": [
    "context = ssl._create_unverified_context()\n",
    "response = request.urlopen(url, context=context)\n",
    "html = response.read()\n",
    "\n",
    "page = requests.get(url)\n",
    "soup = BeautifulSoup(page.content, 'html.parser')\n",
    "print(soup.h4.text)\n",
    "\n",
    "df = pd.read_html(html)\n",
    "df[0].set_index('Point control')['Dose rate, μSv/h']"
   ]
  },
  {
   "cell_type": "code",
   "execution_count": null,
   "metadata": {},
   "outputs": [],
   "source": [
    "# ide kellene adatbázisba vagy pickle-be menteni"
   ]
  },
  {
   "cell_type": "code",
   "execution_count": 104,
   "metadata": {},
   "outputs": [
    {
     "name": "stdout",
     "output_type": "stream",
     "text": [
      "As of the time 03/03/2022 - 21:06\n"
     ]
    },
    {
     "data": {
      "text/plain": [
       "Point control\n",
       "Industrial ground                                0.10\n",
       "Michurino                                        0.08\n",
       "Vodyane                                          0.07\n",
       "Kamyanka-Dniprovska                              0.06\n",
       "Znamyanka                                        0.09\n",
       "ZNPP greenhouses                                 0.10\n",
       "Ivanivka                                         0.11\n",
       "Zaporizhzhya TPP recreation center               0.07\n",
       "Power substation \"Luch\"                          0.09\n",
       "Sewage disposal plant                            0.10\n",
       "ZNPP external radiation monitoring laboratory    0.10\n",
       "Nikopol                                          0.12\n",
       "Marganets                                        0.08\n",
       "ZNPP cooling towers                              0.10\n",
       "31-FFRB                                          0.09\n",
       "Name: Dose rate, μSv/h, dtype: float64"
      ]
     },
     "execution_count": 104,
     "metadata": {},
     "output_type": "execute_result"
    }
   ],
   "source": [
    "print(soup.h4.text)\n",
    "\n",
    "df = pd.read_html(html)\n",
    "df[0].set_index('Point control')['Dose rate, μSv/h']"
   ]
  },
  {
   "cell_type": "code",
   "execution_count": 93,
   "metadata": {},
   "outputs": [
    {
     "name": "stdout",
     "output_type": "stream",
     "text": [
      "Industrial ground 0.1\n"
     ]
    }
   ],
   "source": [
    "for i, v in dat.items():\n",
    "    print(i, v)\n",
    "    break"
   ]
  },
  {
   "cell_type": "code",
   "execution_count": 74,
   "metadata": {},
   "outputs": [
    {
     "data": {
      "text/html": [
       "<div>\n",
       "<style scoped>\n",
       "    .dataframe tbody tr th:only-of-type {\n",
       "        vertical-align: middle;\n",
       "    }\n",
       "\n",
       "    .dataframe tbody tr th {\n",
       "        vertical-align: top;\n",
       "    }\n",
       "\n",
       "    .dataframe thead th {\n",
       "        text-align: right;\n",
       "    }\n",
       "</style>\n",
       "<table border=\"1\" class=\"dataframe\">\n",
       "  <thead>\n",
       "    <tr style=\"text-align: right;\">\n",
       "      <th></th>\n",
       "      <th>Industrial ground</th>\n",
       "      <th>Michurino</th>\n",
       "      <th>Vodyane</th>\n",
       "      <th>Kamyanka-Dniprovska</th>\n",
       "      <th>Znamyanka</th>\n",
       "      <th>ZNPP greenhouses</th>\n",
       "      <th>Ivanivka</th>\n",
       "      <th>Zaporizhzhya TPP recreation center</th>\n",
       "      <th>Power substation \"Luch\"</th>\n",
       "      <th>Sewage disposal plant</th>\n",
       "      <th>ZNPP external radiation monitoring laboratory</th>\n",
       "      <th>Nikopol</th>\n",
       "      <th>Marganets</th>\n",
       "      <th>ZNPP cooling towers</th>\n",
       "      <th>31-FFRB</th>\n",
       "    </tr>\n",
       "  </thead>\n",
       "  <tbody>\n",
       "    <tr>\n",
       "      <th>0</th>\n",
       "      <td>0.09</td>\n",
       "      <td>0.08</td>\n",
       "      <td>0.08</td>\n",
       "      <td>0.06</td>\n",
       "      <td>0.09</td>\n",
       "      <td>0.09</td>\n",
       "      <td>0.11</td>\n",
       "      <td>0.06</td>\n",
       "      <td>0.1</td>\n",
       "      <td>0.12</td>\n",
       "      <td>0.1</td>\n",
       "      <td>0.12</td>\n",
       "      <td>0.06</td>\n",
       "      <td>0.09</td>\n",
       "      <td>0.1</td>\n",
       "    </tr>\n",
       "    <tr>\n",
       "      <th>1</th>\n",
       "      <td>0.09</td>\n",
       "      <td>0.08</td>\n",
       "      <td>0.08</td>\n",
       "      <td>0.06</td>\n",
       "      <td>0.09</td>\n",
       "      <td>0.09</td>\n",
       "      <td>0.11</td>\n",
       "      <td>0.06</td>\n",
       "      <td>0.1</td>\n",
       "      <td>0.12</td>\n",
       "      <td>0.1</td>\n",
       "      <td>0.12</td>\n",
       "      <td>0.06</td>\n",
       "      <td>0.09</td>\n",
       "      <td>0.1</td>\n",
       "    </tr>\n",
       "  </tbody>\n",
       "</table>\n",
       "</div>"
      ],
      "text/plain": [
       "   Industrial ground  Michurino  Vodyane  Kamyanka-Dniprovska  Znamyanka  \\\n",
       "0               0.09       0.08     0.08                 0.06       0.09   \n",
       "1               0.09       0.08     0.08                 0.06       0.09   \n",
       "\n",
       "   ZNPP greenhouses  Ivanivka  Zaporizhzhya TPP recreation center  \\\n",
       "0              0.09      0.11                                0.06   \n",
       "1              0.09      0.11                                0.06   \n",
       "\n",
       "   Power substation \"Luch\"  Sewage disposal plant  \\\n",
       "0                      0.1                   0.12   \n",
       "1                      0.1                   0.12   \n",
       "\n",
       "   ZNPP external radiation monitoring laboratory  Nikopol  Marganets  \\\n",
       "0                                            0.1     0.12       0.06   \n",
       "1                                            0.1     0.12       0.06   \n",
       "\n",
       "   ZNPP cooling towers  31-FFRB  \n",
       "0                 0.09      0.1  \n",
       "1                 0.09      0.1  "
      ]
     },
     "execution_count": 74,
     "metadata": {},
     "output_type": "execute_result"
    }
   ],
   "source": [
    "dicts = []\n",
    "dr = df[0]\n",
    "d1 = dr.set_index('Point control')['Dose rate, μSv/h'].to_dict()\n",
    "\n",
    "dicts.append(d1)\n",
    "dicts.append(d2)\n",
    "\n",
    "dfdf=pd.DataFrame.from_dict(dicts)\n",
    "dfdf\n"
   ]
  },
  {
   "cell_type": "code",
   "execution_count": 37,
   "metadata": {},
   "outputs": [],
   "source": [
    "data_item = dict(\n",
    "    timestamp=datetime.now(),\n",
    "    point_control=df[0],\n",
    "    meteorology=df[1])\n",
    "data_list.append(data_item)"
   ]
  },
  {
   "cell_type": "code",
   "execution_count": 39,
   "metadata": {},
   "outputs": [],
   "source": [
    "data_list=[]\n",
    "import pickle\n",
    "with open(\"zaporizhzhia_npp.pkl\", \"wb\") as fp:\n",
    "    pickle.dump(data_list, fp)"
   ]
  }
 ],
 "metadata": {
  "kernelspec": {
   "display_name": "Python 3",
   "language": "python",
   "name": "python3"
  },
  "language_info": {
   "codemirror_mode": {
    "name": "ipython",
    "version": 3
   },
   "file_extension": ".py",
   "mimetype": "text/x-python",
   "name": "python",
   "nbconvert_exporter": "python",
   "pygments_lexer": "ipython3",
   "version": "3.9.0"
  }
 },
 "nbformat": 4,
 "nbformat_minor": 4
}
